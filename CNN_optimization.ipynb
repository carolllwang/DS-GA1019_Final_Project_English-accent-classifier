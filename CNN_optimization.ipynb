{
  "cells": [
    {
      "cell_type": "code",
      "execution_count": null,
      "id": "mrbIRyU3zP90",
      "metadata": {
        "colab": {
          "base_uri": "https://localhost:8080/"
        },
        "id": "mrbIRyU3zP90",
        "outputId": "e6aa6e96-8383-4a55-a51c-5f61728cda6a"
      },
      "outputs": [
        {
          "name": "stdout",
          "output_type": "stream",
          "text": [
            "Requirement already satisfied: datasets in /usr/local/lib/python3.11/dist-packages (3.5.0)\n",
            "Requirement already satisfied: filelock in /usr/local/lib/python3.11/dist-packages (from datasets) (3.18.0)\n",
            "Requirement already satisfied: numpy>=1.17 in /usr/local/lib/python3.11/dist-packages (from datasets) (2.0.2)\n",
            "Requirement already satisfied: pyarrow>=15.0.0 in /usr/local/lib/python3.11/dist-packages (from datasets) (18.1.0)\n",
            "Requirement already satisfied: dill<0.3.9,>=0.3.0 in /usr/local/lib/python3.11/dist-packages (from datasets) (0.3.8)\n",
            "Requirement already satisfied: pandas in /usr/local/lib/python3.11/dist-packages (from datasets) (2.2.2)\n",
            "Requirement already satisfied: requests>=2.32.2 in /usr/local/lib/python3.11/dist-packages (from datasets) (2.32.3)\n",
            "Requirement already satisfied: tqdm>=4.66.3 in /usr/local/lib/python3.11/dist-packages (from datasets) (4.67.1)\n",
            "Requirement already satisfied: xxhash in /usr/local/lib/python3.11/dist-packages (from datasets) (3.5.0)\n",
            "Requirement already satisfied: multiprocess<0.70.17 in /usr/local/lib/python3.11/dist-packages (from datasets) (0.70.16)\n",
            "Requirement already satisfied: fsspec<=2024.12.0,>=2023.1.0 in /usr/local/lib/python3.11/dist-packages (from fsspec[http]<=2024.12.0,>=2023.1.0->datasets) (2024.12.0)\n",
            "Requirement already satisfied: aiohttp in /usr/local/lib/python3.11/dist-packages (from datasets) (3.11.15)\n",
            "Requirement already satisfied: huggingface-hub>=0.24.0 in /usr/local/lib/python3.11/dist-packages (from datasets) (0.30.2)\n",
            "Requirement already satisfied: packaging in /usr/local/lib/python3.11/dist-packages (from datasets) (24.2)\n",
            "Requirement already satisfied: pyyaml>=5.1 in /usr/local/lib/python3.11/dist-packages (from datasets) (6.0.2)\n",
            "Requirement already satisfied: aiohappyeyeballs>=2.3.0 in /usr/local/lib/python3.11/dist-packages (from aiohttp->datasets) (2.6.1)\n",
            "Requirement already satisfied: aiosignal>=1.1.2 in /usr/local/lib/python3.11/dist-packages (from aiohttp->datasets) (1.3.2)\n",
            "Requirement already satisfied: attrs>=17.3.0 in /usr/local/lib/python3.11/dist-packages (from aiohttp->datasets) (25.3.0)\n",
            "Requirement already satisfied: frozenlist>=1.1.1 in /usr/local/lib/python3.11/dist-packages (from aiohttp->datasets) (1.5.0)\n",
            "Requirement already satisfied: multidict<7.0,>=4.5 in /usr/local/lib/python3.11/dist-packages (from aiohttp->datasets) (6.4.3)\n",
            "Requirement already satisfied: propcache>=0.2.0 in /usr/local/lib/python3.11/dist-packages (from aiohttp->datasets) (0.3.1)\n",
            "Requirement already satisfied: yarl<2.0,>=1.17.0 in /usr/local/lib/python3.11/dist-packages (from aiohttp->datasets) (1.19.0)\n",
            "Requirement already satisfied: typing-extensions>=3.7.4.3 in /usr/local/lib/python3.11/dist-packages (from huggingface-hub>=0.24.0->datasets) (4.13.2)\n",
            "Requirement already satisfied: charset-normalizer<4,>=2 in /usr/local/lib/python3.11/dist-packages (from requests>=2.32.2->datasets) (3.4.1)\n",
            "Requirement already satisfied: idna<4,>=2.5 in /usr/local/lib/python3.11/dist-packages (from requests>=2.32.2->datasets) (3.10)\n",
            "Requirement already satisfied: urllib3<3,>=1.21.1 in /usr/local/lib/python3.11/dist-packages (from requests>=2.32.2->datasets) (2.3.0)\n",
            "Requirement already satisfied: certifi>=2017.4.17 in /usr/local/lib/python3.11/dist-packages (from requests>=2.32.2->datasets) (2025.1.31)\n",
            "Requirement already satisfied: python-dateutil>=2.8.2 in /usr/local/lib/python3.11/dist-packages (from pandas->datasets) (2.8.2)\n",
            "Requirement already satisfied: pytz>=2020.1 in /usr/local/lib/python3.11/dist-packages (from pandas->datasets) (2025.2)\n",
            "Requirement already satisfied: tzdata>=2022.7 in /usr/local/lib/python3.11/dist-packages (from pandas->datasets) (2025.2)\n",
            "Requirement already satisfied: six>=1.5 in /usr/local/lib/python3.11/dist-packages (from python-dateutil>=2.8.2->pandas->datasets) (1.17.0)\n"
          ]
        }
      ],
      "source": [
        "!pip install datasets"
      ]
    },
    {
      "cell_type": "code",
      "execution_count": null,
      "id": "aac7b220",
      "metadata": {
        "id": "aac7b220",
        "outputId": "b1cd02d5-8b4a-4285-8069-cc7a28080249"
      },
      "outputs": [
        {
          "name": "stderr",
          "output_type": "stream",
          "text": [
            "C:\\Users\\Lu Huang\\AppData\\Roaming\\Python\\Python39\\site-packages\\pandas\\core\\computation\\expressions.py:21: UserWarning: Pandas requires version '2.8.4' or newer of 'numexpr' (version '2.7.3' currently installed).\n",
            "  from pandas.core.computation.check import NUMEXPR_INSTALLED\n",
            "C:\\Users\\Lu Huang\\AppData\\Roaming\\Python\\Python39\\site-packages\\pandas\\core\\arrays\\masked.py:60: UserWarning: Pandas requires version '1.3.6' or newer of 'bottleneck' (version '1.3.2' currently installed).\n",
            "  from pandas.core import (\n"
          ]
        }
      ],
      "source": [
        "# Import required libraries\n",
        "import torch\n",
        "import torch.nn as nn\n",
        "import torch.nn.functional as F\n",
        "from torch.utils.data import DataLoader\n",
        "from datasets import load_dataset, Dataset, DatasetDict\n",
        "from sklearn.model_selection import train_test_split\n",
        "from sklearn.preprocessing import LabelEncoder\n",
        "from sklearn.utils.class_weight import compute_class_weight\n",
        "from torch.optim.lr_scheduler import ReduceLROnPlateau\n",
        "import numpy as np\n",
        "import pandas as pd\n",
        "from tqdm import tqdm\n",
        "import time\n",
        "from datasets import ClassLabel"
      ]
    },
    {
      "cell_type": "code",
      "execution_count": null,
      "id": "8f29a3b1",
      "metadata": {
        "id": "8f29a3b1"
      },
      "outputs": [],
      "source": [
        "# Load dataset (with MelSpectrogram + MFCC features)\n",
        "raw_ds = load_dataset(\"ZZZtong/common-accent-MelSpec-MFCC\", split=\"train\")\n",
        "accents = raw_ds.unique(\"accent\")"
      ]
    },
    {
      "cell_type": "markdown",
      "id": "6b2a5762",
      "metadata": {
        "id": "6b2a5762"
      },
      "source": [
        "# optimize 1: Label Encoding"
      ]
    },
    {
      "cell_type": "code",
      "execution_count": null,
      "id": "472cba59",
      "metadata": {
        "colab": {
          "base_uri": "https://localhost:8080/"
        },
        "id": "472cba59",
        "outputId": "61fdad19-5a8c-4ca2-cb11-17db5442eab7"
      },
      "outputs": [
        {
          "name": "stdout",
          "output_type": "stream",
          "text": [
            " datasets.map + LabelEncoder: 0.41 seconds\n"
          ]
        }
      ],
      "source": [
        "# Method A: Using LabelEncoder + datasets.map() (Optimized)\n",
        "start_a = time.time()\n",
        "le = LabelEncoder()\n",
        "le.fit(accents)\n",
        "ds_map = raw_ds.map(lambda ex: {\"label\": le.transform([ex[\"accent\"]])[0]})\n",
        "time_a = time.time() - start_a\n",
        "print(f\" datasets.map + LabelEncoder: {time_a:.2f} seconds\")"
      ]
    },
    {
      "cell_type": "code",
      "execution_count": null,
      "id": "02d4e140",
      "metadata": {
        "id": "02d4e140",
        "outputId": "efffc810-6da5-448f-9fa2-fc5064df28ff"
      },
      "outputs": [
        {
          "name": "stdout",
          "output_type": "stream",
          "text": [
            "[Unoptimized] Manual loop + Dataset rebuild: 184.67 seconds\n"
          ]
        }
      ],
      "source": [
        "# Method B: Manual loop to encode labels and rebuild dataset (Unoptimized)\n",
        "\n",
        "start_b = time.time()\n",
        "label_dict = {accent: i for i, accent in enumerate(accents)}\n",
        "examples = []\n",
        "for ex in raw_ds:\n",
        "    ex = dict(ex)\n",
        "    ex[\"label\"] = label_dict[ex[\"accent\"]]\n",
        "    examples.append(ex)\n",
        "ds_manual = Dataset.from_list(examples)\n",
        "time_b = time.time() - start_b\n",
        "print(f\"[Unoptimized] Manual loop + Dataset rebuild: {time_b:.2f} seconds\")"
      ]
    },
    {
      "cell_type": "code",
      "execution_count": null,
      "id": "0079c3dd",
      "metadata": {
        "colab": {
          "base_uri": "https://localhost:8080/",
          "height": 373
        },
        "id": "0079c3dd",
        "outputId": "d23e9bfc-be60-4df5-b7dc-333b657518b7"
      },
      "outputs": [
        {
          "name": "stdout",
          "output_type": "stream",
          "text": [
            "Speedup: 450.49x faster using map + LabelEncoder\n"
          ]
        }
      ],
      "source": [
        "# Speedup ratio\n",
        "print(f\"Speedup: {time_b / time_a:.2f}x faster using map + LabelEncoder\")\n"
      ]
    },
    {
      "cell_type": "code",
      "execution_count": null,
      "id": "5b791a77",
      "metadata": {
        "id": "5b791a77"
      },
      "outputs": [],
      "source": [
        "# Set the optimized dataset as the working dataset\n",
        "ds=ds_map"
      ]
    },
    {
      "cell_type": "markdown",
      "id": "3193d9d0",
      "metadata": {
        "id": "3193d9d0"
      },
      "source": [
        "# optimize 2: Train/Validation Split"
      ]
    },
    {
      "cell_type": "code",
      "execution_count": null,
      "id": "88bfe57a",
      "metadata": {
        "colab": {
          "base_uri": "https://localhost:8080/"
        },
        "id": "88bfe57a",
        "outputId": "043c8125-130d-46dc-92b6-6bae7bb0bea7"
      },
      "outputs": [
        {
          "name": "stdout",
          "output_type": "stream",
          "text": [
            "[Unoptimized] pandas + sklearn split: 8.99 seconds\n"
          ]
        }
      ],
      "source": [
        "# Method A: Unoptimized - Convert to pandas and split using sklearn\n",
        "start_a = time.time()\n",
        "df_full = ds.to_pandas()\n",
        "train_df, val_df = train_test_split(\n",
        "    df_full,\n",
        "    test_size=0.2,\n",
        "    stratify=df_full[\"label\"],\n",
        "    random_state=42\n",
        ")\n",
        "dataset_pandas = DatasetDict({\n",
        "    \"train\": Dataset.from_pandas(train_df),\n",
        "    \"validation\": Dataset.from_pandas(val_df)\n",
        "})\n",
        "time_a = time.time() - start_a\n",
        "print(f\"[Unoptimized] pandas + sklearn split: {time_a:.2f} seconds\")\n"
      ]
    },
    {
      "cell_type": "code",
      "execution_count": null,
      "id": "4f8d75d6",
      "metadata": {
        "colab": {
          "base_uri": "https://localhost:8080/",
          "height": 86,
          "referenced_widgets": [
            "38c4e81e09074cd19e62559741aea268",
            "2978646e7d074f1fa2e83a3d2d795711",
            "8f38ce77fcf54d19aa8cf1b2e46796af",
            "b93dc6487bac48d382c84774b0695a9e",
            "cea558311ae745d6b4be85aed1696570",
            "e46272082ae54bff8f8d7fa221f1d70b",
            "a807cb90d5264a639dda86d845c56c74",
            "0fccd214dc8d4962a9c9116ec358f348",
            "96595f70507048af8e1d1c8f488dcee4",
            "6fee22402ddd4f268b0471df1d33c53d",
            "7a38585c31844a3b9e1b1e70110c1c24"
          ]
        },
        "id": "4f8d75d6",
        "outputId": "e57d93e4-1436-4d5a-e62c-010c36d84d3b"
      },
      "outputs": [
        {
          "data": {
            "application/vnd.jupyter.widget-view+json": {
              "model_id": "38c4e81e09074cd19e62559741aea268",
              "version_major": 2,
              "version_minor": 0
            },
            "text/plain": [
              "Casting the dataset:   0%|          | 0/2538 [00:00<?, ? examples/s]"
            ]
          },
          "metadata": {},
          "output_type": "display_data"
        },
        {
          "name": "stdout",
          "output_type": "stream",
          "text": [
            " datasets.train_test_split: 0.08s\n",
            "Speedup: 117.87x faster using datasets' built-in split\n"
          ]
        }
      ],
      "source": [
        "# Method B: Optimized - Using datasets.train_test_split with ClassLabel\n",
        "\n",
        "\n",
        "class_label = ClassLabel(names=accents)\n",
        "ds = ds.cast_column(\"label\", class_label)\n",
        "\n",
        "start_opt = time.time()\n",
        "dataset_fast = ds.train_test_split(test_size=0.2, stratify_by_column=\"label\", seed=42)\n",
        "dataset_fast = DatasetDict({\n",
        "    \"train\": dataset_fast[\"train\"],\n",
        "    \"val\": dataset_fast[\"test\"]\n",
        "})\n",
        "time_opt = time.time() - start_opt\n",
        "print(f\" datasets.train_test_split: {time_opt:.2f}s\")\n",
        "\n",
        "# Speedup comparison\n",
        "print(f\"Speedup: {time_a / time_opt:.2f}x faster using datasets' built-in split\")\n",
        "\n"
      ]
    },
    {
      "cell_type": "code",
      "execution_count": null,
      "id": "1b6a9de2",
      "metadata": {
        "id": "1b6a9de2"
      },
      "outputs": [],
      "source": [
        "# Use the optimized split for training\n",
        "dataset = dataset_fast\n"
      ]
    },
    {
      "cell_type": "code",
      "execution_count": null,
      "id": "b4277aaa",
      "metadata": {
        "id": "b4277aaa"
      },
      "outputs": [],
      "source": [
        "# Define a custom collate function to batch variable-size inputs\n",
        "def collate_fn(batch):\n",
        "    X = [torch.tensor(ex[\"mel_spec\"]).unsqueeze(0).float() for ex in batch]\n",
        "    y = [ex[\"label\"] for ex in batch]\n",
        "    return torch.stack(X), torch.tensor(y)"
      ]
    },
    {
      "cell_type": "code",
      "execution_count": null,
      "id": "a8e67d2a",
      "metadata": {
        "id": "a8e67d2a"
      },
      "outputs": [],
      "source": [
        "# Wrap datasets with DataLoaders\n",
        "train_loader = DataLoader(dataset[\"train\"], batch_size=32, shuffle=True, collate_fn=collate_fn)\n",
        "val_loader = DataLoader(dataset[\"val\"], batch_size=32, shuffle=False, collate_fn=collate_fn)"
      ]
    },
    {
      "cell_type": "markdown",
      "id": "ecf7cf75",
      "metadata": {
        "id": "ecf7cf75"
      },
      "source": [
        "# optimize 3：model architectural （using adaptive: similar time but less loss)"
      ]
    },
    {
      "cell_type": "code",
      "execution_count": null,
      "id": "ead1af92",
      "metadata": {
        "id": "ead1af92"
      },
      "outputs": [],
      "source": [
        "class CNN_Flatten(nn.Module):\n",
        "    def __init__(self, num_classes):\n",
        "        super().__init__()\n",
        "        self.features = nn.Sequential(\n",
        "            nn.Conv2d(1, 32, kernel_size=3, padding=1),\n",
        "            nn.BatchNorm2d(32),\n",
        "            nn.ReLU(),\n",
        "            nn.MaxPool2d(2),  # [32, 32, 250]\n",
        "            nn.Conv2d(32, 64, kernel_size=3, padding=1),\n",
        "            nn.BatchNorm2d(64),\n",
        "            nn.ReLU(),\n",
        "            nn.MaxPool2d(2),  # [64, 16, 125]\n",
        "            nn.Conv2d(64, 128, kernel_size=3, padding=1),\n",
        "            nn.BatchNorm2d(128),\n",
        "            nn.ReLU()\n",
        "        )\n",
        "\n",
        "        with torch.no_grad():\n",
        "            dummy_input = torch.rand(1, 1, 64, 501)\n",
        "            dummy_output = self.features(dummy_input)\n",
        "            flatten_dim = dummy_output.view(1, -1).shape[1]\n",
        "\n",
        "        self.classifier = nn.Sequential(\n",
        "            nn.Flatten(),\n",
        "            nn.Dropout(0.5),\n",
        "            nn.Linear(flatten_dim, num_classes)\n",
        "        )\n",
        "\n",
        "    def forward(self, x):\n",
        "        x = self.features(x)\n",
        "        return self.classifier(x)\n"
      ]
    },
    {
      "cell_type": "code",
      "execution_count": null,
      "id": "ce7e8423",
      "metadata": {
        "id": "ce7e8423"
      },
      "outputs": [],
      "source": [
        "# CNN with AdaptiveAvgPool\n",
        "class CNN_Adaptive(nn.Module):\n",
        "    def __init__(self, num_classes):\n",
        "        super().__init__()\n",
        "        self.features = nn.Sequential(\n",
        "            nn.Conv2d(1, 32, kernel_size=3, padding=1),\n",
        "            nn.BatchNorm2d(32),\n",
        "            nn.ReLU(),\n",
        "            nn.MaxPool2d(2),\n",
        "            nn.Conv2d(32, 64, kernel_size=3, padding=1),\n",
        "            nn.BatchNorm2d(64),\n",
        "            nn.ReLU(),\n",
        "            nn.MaxPool2d(2),\n",
        "            nn.Conv2d(64, 128, kernel_size=3, padding=1),\n",
        "            nn.BatchNorm2d(128),\n",
        "            nn.ReLU(),\n",
        "            nn.AdaptiveAvgPool2d((1, 1))\n",
        "        )\n",
        "        self.classifier = nn.Sequential(\n",
        "            nn.Flatten(),\n",
        "            nn.Dropout(0.5),\n",
        "            nn.Linear(128, num_classes)\n",
        "        )\n",
        "\n",
        "    def forward(self, x):\n",
        "        x = self.features(x)\n",
        "        return self.classifier(x)\n"
      ]
    },
    {
      "cell_type": "code",
      "execution_count": null,
      "id": "f91092d1",
      "metadata": {
        "id": "f91092d1",
        "outputId": "5f5979b9-c728-4295-c33c-a5df853d2f82"
      },
      "outputs": [
        {
          "name": "stdout",
          "output_type": "stream",
          "text": [
            "Flatten              | Avg Time: 61.53s | Params: 1.63M | Avg Loss: 33.0690\n",
            "AdaptivePool         | Avg Time: 61.46s | Params: 0.09M | Avg Loss: 1.7424\n",
            "\n",
            "Speedup: 1.00x faster using AdaptiveAvgPool\n"
          ]
        }
      ],
      "source": [
        "device = torch.device(\"cuda\" if torch.cuda.is_available() else \"cpu\")\n",
        "\n",
        "# Benchmark training time for one epoch (30 batches) and average over 3 runs\n",
        "def benchmark_model_avg(model_class, name, num_classes, loader, repeats=3):\n",
        "    times = []\n",
        "    for _ in range(repeats):\n",
        "        model = model_class(num_classes).to(device)\n",
        "        criterion = nn.CrossEntropyLoss()\n",
        "        optimizer = torch.optim.Adam(model.parameters(), lr=1e-3)\n",
        "\n",
        "        model.train()\n",
        "        start = time.time()\n",
        "        total_loss = 0\n",
        "        for i, (X, y) in enumerate(loader):\n",
        "            # Only run 30 batches to simulate a fast training loop\n",
        "            if i >= 30:\n",
        "                break\n",
        "            X, y = X.to(device), y.to(device)\n",
        "            optimizer.zero_grad()\n",
        "            preds = model(X)\n",
        "            loss = criterion(preds, y)\n",
        "            loss.backward()\n",
        "            optimizer.step()\n",
        "            total_loss += loss.item()\n",
        "        times.append(time.time() - start)\n",
        "\n",
        "    mean_time = sum(times) / len(times)\n",
        "    num_params = sum(p.numel() for p in model.parameters())\n",
        "    print(f\"{name:<20} | Avg Time: {mean_time:.2f}s | Params: {num_params/1e6:.2f}M | Avg Loss: {total_loss/30:.4f}\")\n",
        "    return mean_time\n",
        "\n",
        "time1 = benchmark_model_avg(CNN_Flatten, \"Flatten\", len(le.classes_), train_loader)\n",
        "time2 = benchmark_model_avg(CNN_Adaptive, \"AdaptivePool\", len(le.classes_), train_loader)\n",
        "print(f\"\\nSpeedup: {time1 / time2:.2f}x faster using AdaptiveAvgPool\")\n",
        "\n"
      ]
    },
    {
      "cell_type": "markdown",
      "id": "c7f46fe1",
      "metadata": {
        "id": "c7f46fe1"
      },
      "source": [
        "Given similar training time, but the AdaptivePool model has significantly fewer parameters and a lower loss, it suggests better computational efficiency and potentially stronger generalization. Therefore, AdaptivePool is preferred because it offers a better balance between performance and resource usage."
      ]
    },
    {
      "cell_type": "code",
      "execution_count": null,
      "id": "3f9f2083",
      "metadata": {
        "id": "3f9f2083"
      },
      "outputs": [],
      "source": [
        "# Instantiate model, optimizer, loss function, and scheduler\n",
        "device = torch.device(\"cuda\" if torch.cuda.is_available() else \"cpu\")\n",
        "num_classes = len(le.classes_)\n",
        "model = CNN_Adaptive(num_classes).to(device)\n"
      ]
    },
    {
      "cell_type": "code",
      "execution_count": null,
      "id": "20fba03e",
      "metadata": {
        "colab": {
          "base_uri": "https://localhost:8080/"
        },
        "id": "20fba03e",
        "outputId": "87b847d3-1d50-4a6a-c415-b18da371bcca"
      },
      "outputs": [
        {
          "name": "stderr",
          "output_type": "stream",
          "text": [
            "/usr/local/lib/python3.11/dist-packages/torch/optim/lr_scheduler.py:62: UserWarning: The verbose parameter is deprecated. Please use get_last_lr() to access the learning rate.\n",
            "  warnings.warn(\n"
          ]
        }
      ],
      "source": [
        "# Compute class weights to handle class imbalance\n",
        "class_weights = compute_class_weight(\n",
        "    class_weight='balanced',\n",
        "    classes=np.unique(train_df['label']),\n",
        "    y=train_df['label']\n",
        ")\n",
        "weights_tensor = torch.tensor(class_weights, dtype=torch.float).to(device)\n",
        "\n",
        "# Cross-entropy loss with class weights\n",
        "criterion = nn.CrossEntropyLoss(weight=weights_tensor)\n",
        "\n",
        "# Adam optimizer with learning rate decay\n",
        "optimizer = torch.optim.Adam(model.parameters(), lr=1e-3, weight_decay=1e-4)\n",
        "\n",
        "# Reduce learning rate when validation accuracy plateaus\n",
        "scheduler = ReduceLROnPlateau(optimizer, mode='max', factor=0.5, patience=3, verbose=True)"
      ]
    },
    {
      "cell_type": "markdown",
      "id": "7ccf24c3",
      "metadata": {
        "id": "7ccf24c3"
      },
      "source": [
        "# optimize 4: evaluation function"
      ]
    },
    {
      "cell_type": "code",
      "execution_count": null,
      "id": "b62aef33",
      "metadata": {
        "id": "b62aef33"
      },
      "outputs": [],
      "source": [
        "#  Unoptimized version: does not use torch.no_grad(), and calls item() unnecessarily\n",
        "def evaluate_unoptimized(model, loader):\n",
        "    model.eval()\n",
        "    total = 0\n",
        "    correct = 0\n",
        "    for X, y in loader:\n",
        "        X = X.to(device)\n",
        "        y = y.to(device)\n",
        "        preds = model(X)\n",
        "\n",
        "        # Calling .item() repeatedly on GPU tensors is slow (especially for small batches)\n",
        "        predicted = preds.argmax(dim=1)\n",
        "        correct += ((predicted == y).sum().item())  # Converts to scalar every iteration\n",
        "        total += y.size(0)\n",
        "\n",
        "    return correct / total\n"
      ]
    },
    {
      "cell_type": "code",
      "execution_count": null,
      "id": "2b9ed250",
      "metadata": {
        "id": "2b9ed250"
      },
      "outputs": [],
      "source": [
        "# Evaluation function to compute validation accuracy\n",
        "def evaluate(model, loader):\n",
        "    model.eval()\n",
        "    total, correct = 0, 0\n",
        "    with torch.no_grad():\n",
        "        for X, y in loader:\n",
        "            X, y = X.to(device), y.to(device)\n",
        "            preds = model(X)\n",
        "            predicted = preds.argmax(dim=1)\n",
        "            total += y.size(0)\n",
        "            correct += (predicted == y).sum().item()\n",
        "    return correct / total"
      ]
    },
    {
      "cell_type": "code",
      "execution_count": null,
      "id": "470e31eb",
      "metadata": {
        "id": "470e31eb",
        "outputId": "56f3d139-766f-416b-f38d-01326224cf63"
      },
      "outputs": [
        {
          "name": "stdout",
          "output_type": "stream",
          "text": [
            " Unoptimized Eval: Acc = 10.83%, Time = 23.74s\n",
            " Optimized Eval  : Acc = 10.83%, Time = 20.91s\n",
            " Speedup: 1.14x\n"
          ]
        }
      ],
      "source": [
        "start = time.time()\n",
        "acc_unopt = evaluate_unoptimized(model, val_loader)\n",
        "t_unopt = time.time() - start\n",
        "\n",
        "start = time.time()\n",
        "acc_opt = evaluate(model, val_loader)\n",
        "t_opt = time.time() - start\n",
        "\n",
        "print(f\" Unoptimized Eval: Acc = {acc_unopt:.2%}, Time = {t_unopt:.2f}s\")\n",
        "print(f\" Optimized Eval  : Acc = {acc_opt:.2%}, Time = {t_opt:.2f}s\")\n",
        "print(f\" Speedup: {t_unopt / t_opt:.2f}x\")\n"
      ]
    },
    {
      "cell_type": "markdown",
      "id": "326497d8",
      "metadata": {
        "id": "326497d8"
      },
      "source": [
        "# training loop"
      ]
    },
    {
      "cell_type": "code",
      "execution_count": null,
      "id": "c5496bd5",
      "metadata": {
        "id": "c5496bd5"
      },
      "outputs": [],
      "source": [
        "# training for 1 epoch\n",
        "def train_one_epoch(model, optimizer, criterion, loader):\n",
        "    model.train()\n",
        "    total_loss = 0.0\n",
        "    for X, y in loader:\n",
        "        X, y = X.to(device), y.to(device)\n",
        "        optimizer.zero_grad()\n",
        "        preds = model(X)\n",
        "        loss = criterion(preds, y)\n",
        "        loss.backward()\n",
        "        optimizer.step()\n",
        "        total_loss += loss.item()\n",
        "    return total_loss / len(loader)\n",
        "\n",
        "import torch._dynamo as dynamo\n",
        "\n",
        "def benchmark_compile(model_class, label, use_compile=False):\n",
        "    model = model_class(num_classes).to(device)\n",
        "\n",
        "    if use_compile:\n",
        "        dynamo.config.suppress_errors = True\n",
        "        model = torch.compile(model, backend=\"eager\")\n",
        "\n",
        "    optimizer = torch.optim.Adam(model.parameters(), lr=1e-3)\n",
        "    criterion = nn.CrossEntropyLoss()\n",
        "\n",
        "    start = time.time()\n",
        "    loss = train_one_epoch(model, optimizer, criterion, train_loader)\n",
        "    val_acc = evaluate(model, val_loader)\n",
        "    duration = time.time() - start\n",
        "\n",
        "    print(f\"{label:<24} | Time: {duration:.2f}s | Loss: {loss:.4f} | Val Acc: {val_acc:.2%}\")\n",
        "    return duration\n",
        "\n"
      ]
    },
    {
      "cell_type": "code",
      "execution_count": null,
      "id": "447787d4",
      "metadata": {
        "colab": {
          "base_uri": "https://localhost:8080/"
        },
        "id": "447787d4",
        "outputId": "050a6e88-d717-428c-fc9e-d4f564be3244"
      },
      "outputs": [
        {
          "name": "stdout",
          "output_type": "stream",
          "text": [
            " Benchmarking torch.compile() using fallback backend (eager)...\n",
            "\n",
            " Normal Model            | Time: 77.99s | Loss: 1.7004 | Val Acc: 25.20%\n",
            " Compiled (eager)        | Time: 74.47s | Loss: 1.6873 | Val Acc: 38.39%\n",
            "\n",
            " Speedup from torch.compile(eager): 1.05x\n"
          ]
        }
      ],
      "source": [
        "print(\" Benchmarking torch.compile() using fallback backend (eager)...\\n\")\n",
        "\n",
        "t1 = benchmark_compile(CNN_Adaptive, \" Normal Model\", use_compile=False)\n",
        "t2 = benchmark_compile(CNN_Adaptive, \" Compiled (eager)\", use_compile=True)\n",
        "\n",
        "print(f\"\\n Speedup from torch.compile(eager): {t1 / t2:.2f}x\")\n"
      ]
    },
    {
      "cell_type": "markdown",
      "id": "HtJ9vlKH1jXl",
      "metadata": {
        "id": "HtJ9vlKH1jXl"
      },
      "source": [
        "# optimize 4: gpu （1 epoch & no repeats comparison)"
      ]
    },
    {
      "cell_type": "code",
      "execution_count": null,
      "id": "fabaf727",
      "metadata": {
        "colab": {
          "base_uri": "https://localhost:8080/"
        },
        "id": "fabaf727",
        "outputId": "557be42d-f2f0-4fe1-f6a3-eddf47e3b1ec"
      },
      "outputs": [
        {
          "name": "stdout",
          "output_type": "stream",
          "text": [
            "cuda\n"
          ]
        }
      ],
      "source": [
        "device = torch.device(\"cuda\" if torch.cuda.is_available() else \"cpu\")\n",
        "print(device)"
      ]
    },
    {
      "cell_type": "code",
      "execution_count": null,
      "id": "3qm4Gocp1o5b",
      "metadata": {
        "id": "3qm4Gocp1o5b"
      },
      "outputs": [],
      "source": [
        "# Benchmark one epoch (30 batches) of training on either CPU or GPU\n",
        "def benchmark_device(model_class, name, loader, use_gpu=True):\n",
        "    # Select device based on flag and availability\n",
        "    device = torch.device(\"cuda\" if (torch.cuda.is_available() and use_gpu) else \"cpu\")\n",
        "\n",
        "    # Initialize model, loss function, optimizer\n",
        "    model = model_class(num_classes).to(device)\n",
        "    criterion = torch.nn.CrossEntropyLoss()\n",
        "    optimizer = torch.optim.Adam(model.parameters(), lr=1e-3)\n",
        "\n",
        "    model.train()\n",
        "    start = time.time()\n",
        "    total_loss = 0.0\n",
        "\n",
        "    # Run 30 training batches\n",
        "    for i, (X, y) in enumerate(loader):\n",
        "        if i >= 30:\n",
        "            break\n",
        "        X, y = X.to(device), y.to(device)\n",
        "        optimizer.zero_grad()\n",
        "        preds = model(X)\n",
        "        loss = criterion(preds, y)\n",
        "        loss.backward()\n",
        "        optimizer.step()\n",
        "        total_loss += loss.item()\n",
        "\n",
        "    end = time.time()\n",
        "\n",
        "    print(f\"{name:<15} | Device: {device} | Time: {end - start:.2f}s | Avg Loss: {total_loss / 30:.4f}\")\n"
      ]
    },
    {
      "cell_type": "code",
      "execution_count": null,
      "id": "FwuQdIsb1zTR",
      "metadata": {
        "colab": {
          "base_uri": "https://localhost:8080/"
        },
        "id": "FwuQdIsb1zTR",
        "outputId": "a0687e2f-1b5a-4e33-93f3-e6cd2716a08e"
      },
      "outputs": [
        {
          "name": "stdout",
          "output_type": "stream",
          "text": [
            "CPU Run         | Device: cpu | Time: 100.21s | Avg Loss: 1.7420\n",
            "GPU Run         | Device: cuda | Time: 33.63s | Avg Loss: 1.7546\n"
          ]
        }
      ],
      "source": [
        "# Run the benchmark on both CPU and GPU\n",
        "benchmark_device(CNN_Adaptive, \"CPU Run\", train_loader, use_gpu=False)\n",
        "benchmark_device(CNN_Adaptive, \"GPU Run\", train_loader, use_gpu=True)\n"
      ]
    },
    {
      "cell_type": "markdown",
      "id": "civMDF5s2N6x",
      "metadata": {
        "id": "civMDF5s2N6x"
      },
      "source": [
        "# more stable comparison : 5 epoch & 3 repeated tests"
      ]
    },
    {
      "cell_type": "code",
      "execution_count": null,
      "id": "49p1SztV2P8F",
      "metadata": {
        "id": "49p1SztV2P8F"
      },
      "outputs": [],
      "source": [
        "# Benchmark 5 epochs with 3 repeated runs on CPU vs GPU\n",
        "def benchmark_device_avg(model_class, name, loader, use_gpu=True, epochs=5, repeats=3, max_batches=50):\n",
        "    device = torch.device(\"cuda\" if (torch.cuda.is_available() and use_gpu) else \"cpu\")\n",
        "    durations = []\n",
        "\n",
        "    for r in range(repeats):\n",
        "        model = model_class(num_classes).to(device)\n",
        "        criterion = torch.nn.CrossEntropyLoss()\n",
        "        optimizer = torch.optim.Adam(model.parameters(), lr=1e-3)\n",
        "\n",
        "        start = time.time()\n",
        "        model.train()\n",
        "        for epoch in range(epochs):\n",
        "            # Use tqdm to show batch progress for each epoch\n",
        "            for i, (X, y) in enumerate(tqdm(loader, desc=f\"{name} | Epoch {epoch+1}\", leave=False)):\n",
        "                if i >= max_batches:\n",
        "                    break\n",
        "                X, y = X.to(device), y.to(device)\n",
        "                optimizer.zero_grad()\n",
        "                preds = model(X)\n",
        "                loss = criterion(preds, y)\n",
        "                loss.backward()\n",
        "                optimizer.step()\n",
        "        durations.append(time.time() - start)\n",
        "\n",
        "    avg_time = sum(durations) / len(durations)\n",
        "    print(f\"{name:<15} | Device: {device} | Avg Time over {repeats} runs: {avg_time:.2f}s\")\n",
        "    return avg_time\n"
      ]
    },
    {
      "cell_type": "code",
      "execution_count": null,
      "id": "vaX1lscV2mHd",
      "metadata": {
        "colab": {
          "base_uri": "https://localhost:8080/"
        },
        "id": "vaX1lscV2mHd",
        "outputId": "b30a329a-9a70-493e-8f25-0ff4e16ba6eb"
      },
      "outputs": [
        {
          "name": "stderr",
          "output_type": "stream",
          "text": []
        },
        {
          "name": "stdout",
          "output_type": "stream",
          "text": [
            "Adaptive CNN    | Device: cuda | Avg Time over 3 runs: 235.41s\n"
          ]
        },
        {
          "name": "stderr",
          "output_type": "stream",
          "text": [
            "                                                                       "
          ]
        },
        {
          "name": "stdout",
          "output_type": "stream",
          "text": [
            "Adaptive CNN    | Device: cpu | Avg Time over 3 runs: 797.23s\n"
          ]
        },
        {
          "name": "stderr",
          "output_type": "stream",
          "text": [
            "\r"
          ]
        },
        {
          "data": {
            "text/plain": [
              "797.2290807565054"
            ]
          },
          "execution_count": 23,
          "metadata": {},
          "output_type": "execute_result"
        }
      ],
      "source": [
        "benchmark_device_avg(CNN_Adaptive, \"Adaptive CNN\", train_loader, use_gpu=True)\n",
        "benchmark_device_avg(CNN_Adaptive, \"Adaptive CNN\", train_loader, use_gpu=False)\n"
      ]
    },
    {
      "cell_type": "markdown",
      "id": "0LbZ3qqB44R_",
      "metadata": {
        "id": "0LbZ3qqB44R_"
      },
      "source": [
        "# more stable comparison : 10 epoch"
      ]
    },
    {
      "cell_type": "code",
      "execution_count": null,
      "id": "t5RoSKOf46LF",
      "metadata": {
        "id": "t5RoSKOf46LF"
      },
      "outputs": [],
      "source": [
        "# Benchmark 15 epochs with a single run on CPU or GPU\n",
        "def benchmark_device_avg(model_class, name, loader, use_gpu=True, epochs=10, repeats=1, max_batches=50):\n",
        "    device = torch.device(\"cuda\" if (torch.cuda.is_available() and use_gpu) else \"cpu\")\n",
        "    durations = []\n",
        "\n",
        "    for r in range(repeats):\n",
        "        model = model_class(num_classes).to(device)\n",
        "        criterion = torch.nn.CrossEntropyLoss()\n",
        "        optimizer = torch.optim.Adam(model.parameters(), lr=1e-3)\n",
        "\n",
        "        start = time.time()\n",
        "        model.train()\n",
        "        for epoch in range(epochs):\n",
        "            for i, (X, y) in enumerate(tqdm(loader, desc=f\"{name} | Epoch {epoch+1}\", leave=False)):\n",
        "                if i >= max_batches:\n",
        "                    break\n",
        "                X, y = X.to(device), y.to(device)\n",
        "                optimizer.zero_grad()\n",
        "                preds = model(X)\n",
        "                loss = criterion(preds, y)\n",
        "                loss.backward()\n",
        "                optimizer.step()\n",
        "        durations.append(time.time() - start)\n",
        "\n",
        "    avg_time = sum(durations) / len(durations)\n",
        "    print(f\"{name:<15} | Device: {device} | Avg Time (10 epochs): {avg_time:.2f}s\")\n",
        "    return avg_time\n"
      ]
    },
    {
      "cell_type": "code",
      "execution_count": null,
      "id": "Wgwm2Bt84-2M",
      "metadata": {
        "colab": {
          "base_uri": "https://localhost:8080/"
        },
        "id": "Wgwm2Bt84-2M",
        "outputId": "19f33262-1aa9-4e6f-8b1a-9f71e7afa91b"
      },
      "outputs": [
        {
          "name": "stderr",
          "output_type": "stream",
          "text": []
        },
        {
          "name": "stdout",
          "output_type": "stream",
          "text": [
            "Adaptive CNN    | Device: cuda | Avg Time (10 epochs): 461.43s\n"
          ]
        },
        {
          "name": "stderr",
          "output_type": "stream",
          "text": [
            "Adaptive CNN | Epoch 10:  59%|█████▉    | 38/64 [02:01<01:20,  3.10s/it]"
          ]
        }
      ],
      "source": [
        "# Run benchmark on GPU\n",
        "benchmark_device_avg(CNN_Adaptive, \"Adaptive CNN\", train_loader, use_gpu=True)\n",
        "\n",
        "# Run benchmark on CPU\n",
        "benchmark_device_avg(CNN_Adaptive, \"Adaptive CNN\", train_loader, use_gpu=False)\n"
      ]
    },
    {
      "cell_type": "code",
      "execution_count": null,
      "id": "onWfQpC1PaEa",
      "metadata": {
        "colab": {
          "base_uri": "https://localhost:8080/"
        },
        "id": "onWfQpC1PaEa",
        "outputId": "b913161f-e864-4bcd-fb08-5c5bc699d794"
      },
      "outputs": [
        {
          "name": "stderr",
          "output_type": "stream",
          "text": [
            "                                                                        "
          ]
        },
        {
          "name": "stdout",
          "output_type": "stream",
          "text": [
            "Adaptive CNN    | Device: cpu | Avg Time (10 epochs): 1575.52s\n"
          ]
        },
        {
          "name": "stderr",
          "output_type": "stream",
          "text": [
            "\r"
          ]
        },
        {
          "data": {
            "text/plain": [
              "1575.5164103507996"
            ]
          },
          "execution_count": 19,
          "metadata": {},
          "output_type": "execute_result"
        }
      ],
      "source": [
        "# Run benchmark on CPU\n",
        "benchmark_device_avg(CNN_Adaptive, \"Adaptive CNN\", train_loader, use_gpu=False)\n"
      ]
    },
    {
      "cell_type": "markdown",
      "id": "k_lAg03_4Uad",
      "metadata": {
        "id": "k_lAg03_4Uad"
      },
      "source": [
        "# Other attempts: gpu + torch compile (10 epoch comparison)"
      ]
    },
    {
      "cell_type": "code",
      "execution_count": null,
      "id": "ULYual8T5YQl",
      "metadata": {
        "id": "ULYual8T5YQl"
      },
      "outputs": [],
      "source": [
        "import torch._dynamo\n",
        "\n",
        "def benchmark_compile_single(model_class, name, loader, use_gpu=True, use_compile=True, epochs=10, max_batches=50):\n",
        "    device = torch.device(\"cuda\" if (torch.cuda.is_available() and use_gpu) else \"cpu\")\n",
        "    model = model_class(num_classes).to(device)\n",
        "\n",
        "    if use_compile:\n",
        "        torch._dynamo.config.suppress_errors = True\n",
        "        model = torch.compile(model, backend=\"eager\")  # Fallback backend that works on Colab\n",
        "\n",
        "    criterion = torch.nn.CrossEntropyLoss()\n",
        "    optimizer = torch.optim.Adam(model.parameters(), lr=1e-3)\n",
        "\n",
        "    model.train()\n",
        "    start = time.time()\n",
        "    for epoch in range(epochs):\n",
        "        for i, (X, y) in enumerate(tqdm(loader, desc=f\"{name} | Epoch {epoch+1}\", leave=False)):\n",
        "            if i >= max_batches:\n",
        "                break\n",
        "            X, y = X.to(device), y.to(device)\n",
        "            optimizer.zero_grad()\n",
        "            preds = model(X)\n",
        "            loss = criterion(preds, y)\n",
        "            loss.backward()\n",
        "            optimizer.step()\n",
        "    duration = time.time() - start\n",
        "\n",
        "    print(f\"{name:<20} | Device: {device} | Time for {epochs} epochs: {duration:.2f}s\")\n",
        "    return duration\n"
      ]
    },
    {
      "cell_type": "code",
      "execution_count": null,
      "id": "A6pV78oR4aY_",
      "metadata": {
        "colab": {
          "base_uri": "https://localhost:8080/"
        },
        "id": "A6pV78oR4aY_",
        "outputId": "0eaa32c8-3749-40d0-f655-9d37901c247b"
      },
      "outputs": [
        {
          "name": "stderr",
          "output_type": "stream",
          "text": []
        },
        {
          "name": "stdout",
          "output_type": "stream",
          "text": [
            "Baseline CNN         | Device: cuda | Time for 10 epochs: 521.02s\n"
          ]
        },
        {
          "name": "stderr",
          "output_type": "stream",
          "text": [
            "                                                                        "
          ]
        },
        {
          "name": "stdout",
          "output_type": "stream",
          "text": [
            "Compiled CNN         | Device: cuda | Time for 10 epochs: 512.66s\n"
          ]
        },
        {
          "name": "stderr",
          "output_type": "stream",
          "text": [
            "\r"
          ]
        },
        {
          "data": {
            "text/plain": [
              "512.6571445465088"
            ]
          },
          "execution_count": 21,
          "metadata": {},
          "output_type": "execute_result"
        }
      ],
      "source": [
        "# Baseline (no compile)\n",
        "benchmark_compile_single(CNN_Adaptive, \"Baseline CNN\", train_loader, use_compile=False)\n",
        "\n",
        "# torch.compile version\n",
        "benchmark_compile_single(CNN_Adaptive, \"Compiled CNN\", train_loader, use_compile=True)\n"
      ]
    },
    {
      "cell_type": "markdown",
      "id": "txAgZrX_a4W1",
      "metadata": {
        "id": "txAgZrX_a4W1"
      },
      "source": [
        "\n",
        "Although `torch.compile()` is designed to accelerate model training by optimizing execution graphs, in this case the speedup is minimal. This is because:\n",
        "\n",
        "1. **Fallback backend (`eager`)**: Since Colab does not provide a C++ compiler, `torch.compile()` uses the fallback `\"eager\"` backend instead of the faster `\"inductor\"` backend, which limits its acceleration capabilities.\n",
        "\n",
        "2. **Small model**: The CNN model used (`CNN_Adaptive`) is relatively lightweight (~0.09M parameters), so GPU compute is not the main bottleneck. As a result, the overhead of compiling the model doesn't yield noticeable improvements.\n",
        "\n",
        "3. **Short training duration**: Running only 10 epochs on 50 batches does not provide enough workload for the compiler to amortize its optimization overhead. `torch.compile()` is generally more effective in longer or large-scale training.\n",
        "\n",
        "Therefore, while `torch.compile()` works correctly, its benefits are not evident in this specific setup.\n"
      ]
    },
    {
      "cell_type": "markdown",
      "id": "lrkF3KDPbvu_",
      "metadata": {
        "id": "lrkF3KDPbvu_"
      },
      "source": [
        "# Training for 50 epoch using gpu"
      ]
    },
    {
      "cell_type": "code",
      "execution_count": null,
      "id": "xpat2EbIa6IW",
      "metadata": {
        "colab": {
          "base_uri": "https://localhost:8080/"
        },
        "id": "xpat2EbIa6IW",
        "outputId": "4ee40e78-8430-4756-f3ab-d76491ae777e"
      },
      "outputs": [
        {
          "name": "stderr",
          "output_type": "stream",
          "text": [
            "/usr/local/lib/python3.11/dist-packages/torch/optim/lr_scheduler.py:62: UserWarning: The verbose parameter is deprecated. Please use get_last_lr() to access the learning rate.\n",
            "  warnings.warn(\n"
          ]
        }
      ],
      "source": [
        "# Setup model, optimizer, loss, and scheduler\n",
        "model = CNN_Adaptive(num_classes).to(device)\n",
        "\n",
        "class_weights = compute_class_weight('balanced', classes=np.unique(train_df['label']), y=train_df['label'])\n",
        "weights_tensor = torch.tensor(class_weights, dtype=torch.float).to(device)\n",
        "criterion = nn.CrossEntropyLoss(weight=weights_tensor)\n",
        "optimizer = torch.optim.Adam(model.parameters(), lr=1e-3, weight_decay=1e-4)\n",
        "scheduler = ReduceLROnPlateau(optimizer, mode='max', factor=0.5, patience=3, verbose=True)\n"
      ]
    },
    {
      "cell_type": "code",
      "execution_count": null,
      "id": "Q-22PqMjbyYq",
      "metadata": {
        "colab": {
          "base_uri": "https://localhost:8080/"
        },
        "id": "Q-22PqMjbyYq",
        "outputId": "c007e5ef-97cc-4e9a-b288-d8c642ddea29"
      },
      "outputs": [
        {
          "name": "stderr",
          "output_type": "stream",
          "text": []
        },
        {
          "name": "stdout",
          "output_type": "stream",
          "text": [
            "Epoch 1, Train Loss: 113.5060, Val Acc: 35.43%\n",
            " Best model saved.\n"
          ]
        },
        {
          "name": "stderr",
          "output_type": "stream",
          "text": []
        },
        {
          "name": "stdout",
          "output_type": "stream",
          "text": [
            "Epoch 2, Train Loss: 110.1049, Val Acc: 23.43%\n"
          ]
        },
        {
          "name": "stderr",
          "output_type": "stream",
          "text": []
        },
        {
          "name": "stdout",
          "output_type": "stream",
          "text": [
            "Epoch 3, Train Loss: 106.2252, Val Acc: 35.04%\n"
          ]
        },
        {
          "name": "stderr",
          "output_type": "stream",
          "text": []
        },
        {
          "name": "stdout",
          "output_type": "stream",
          "text": [
            "Epoch 4, Train Loss: 101.9284, Val Acc: 39.76%\n",
            " Best model saved.\n"
          ]
        },
        {
          "name": "stderr",
          "output_type": "stream",
          "text": []
        },
        {
          "name": "stdout",
          "output_type": "stream",
          "text": [
            "Epoch 5, Train Loss: 98.2796, Val Acc: 34.45%\n"
          ]
        },
        {
          "name": "stderr",
          "output_type": "stream",
          "text": []
        },
        {
          "name": "stdout",
          "output_type": "stream",
          "text": [
            "Epoch 6, Train Loss: 95.5715, Val Acc: 37.99%\n"
          ]
        },
        {
          "name": "stderr",
          "output_type": "stream",
          "text": []
        },
        {
          "name": "stdout",
          "output_type": "stream",
          "text": [
            "Epoch 7, Train Loss: 93.9894, Val Acc: 41.93%\n",
            " Best model saved.\n"
          ]
        },
        {
          "name": "stderr",
          "output_type": "stream",
          "text": []
        },
        {
          "name": "stdout",
          "output_type": "stream",
          "text": [
            "Epoch 8, Train Loss: 91.9179, Val Acc: 49.41%\n",
            " Best model saved.\n"
          ]
        },
        {
          "name": "stderr",
          "output_type": "stream",
          "text": []
        },
        {
          "name": "stdout",
          "output_type": "stream",
          "text": [
            "Epoch 9, Train Loss: 90.6625, Val Acc: 48.62%\n"
          ]
        },
        {
          "name": "stderr",
          "output_type": "stream",
          "text": []
        },
        {
          "name": "stdout",
          "output_type": "stream",
          "text": [
            "Epoch 10, Train Loss: 89.5781, Val Acc: 44.49%\n"
          ]
        },
        {
          "name": "stderr",
          "output_type": "stream",
          "text": []
        },
        {
          "name": "stdout",
          "output_type": "stream",
          "text": [
            "Epoch 11, Train Loss: 88.4909, Val Acc: 45.67%\n"
          ]
        },
        {
          "name": "stderr",
          "output_type": "stream",
          "text": []
        },
        {
          "name": "stdout",
          "output_type": "stream",
          "text": [
            "Epoch 12, Train Loss: 86.4758, Val Acc: 33.86%\n"
          ]
        },
        {
          "name": "stderr",
          "output_type": "stream",
          "text": []
        },
        {
          "name": "stdout",
          "output_type": "stream",
          "text": [
            "Epoch 13, Train Loss: 84.3414, Val Acc: 52.95%\n",
            " Best model saved.\n"
          ]
        },
        {
          "name": "stderr",
          "output_type": "stream",
          "text": []
        },
        {
          "name": "stdout",
          "output_type": "stream",
          "text": [
            "Epoch 14, Train Loss: 83.5631, Val Acc: 47.64%\n"
          ]
        },
        {
          "name": "stderr",
          "output_type": "stream",
          "text": []
        },
        {
          "name": "stdout",
          "output_type": "stream",
          "text": [
            "Epoch 15, Train Loss: 84.8094, Val Acc: 55.51%\n",
            " Best model saved.\n"
          ]
        },
        {
          "name": "stderr",
          "output_type": "stream",
          "text": []
        },
        {
          "name": "stdout",
          "output_type": "stream",
          "text": [
            "Epoch 16, Train Loss: 84.9291, Val Acc: 43.31%\n"
          ]
        },
        {
          "name": "stderr",
          "output_type": "stream",
          "text": []
        },
        {
          "name": "stdout",
          "output_type": "stream",
          "text": [
            "Epoch 17, Train Loss: 84.7134, Val Acc: 44.29%\n"
          ]
        },
        {
          "name": "stderr",
          "output_type": "stream",
          "text": []
        },
        {
          "name": "stdout",
          "output_type": "stream",
          "text": [
            "Epoch 18, Train Loss: 82.6587, Val Acc: 43.90%\n"
          ]
        },
        {
          "name": "stderr",
          "output_type": "stream",
          "text": []
        },
        {
          "name": "stdout",
          "output_type": "stream",
          "text": [
            "Epoch 19, Train Loss: 81.2441, Val Acc: 54.33%\n"
          ]
        },
        {
          "name": "stderr",
          "output_type": "stream",
          "text": []
        },
        {
          "name": "stdout",
          "output_type": "stream",
          "text": [
            "Epoch 20, Train Loss: 80.3848, Val Acc: 50.39%\n"
          ]
        },
        {
          "name": "stderr",
          "output_type": "stream",
          "text": []
        },
        {
          "name": "stdout",
          "output_type": "stream",
          "text": [
            "Epoch 21, Train Loss: 79.8744, Val Acc: 52.36%\n"
          ]
        },
        {
          "name": "stderr",
          "output_type": "stream",
          "text": []
        },
        {
          "name": "stdout",
          "output_type": "stream",
          "text": [
            "Epoch 22, Train Loss: 80.1502, Val Acc: 50.20%\n"
          ]
        },
        {
          "name": "stderr",
          "output_type": "stream",
          "text": []
        },
        {
          "name": "stdout",
          "output_type": "stream",
          "text": [
            "Epoch 23, Train Loss: 79.1833, Val Acc: 55.31%\n"
          ]
        },
        {
          "name": "stderr",
          "output_type": "stream",
          "text": []
        },
        {
          "name": "stdout",
          "output_type": "stream",
          "text": [
            "Epoch 24, Train Loss: 79.4367, Val Acc: 55.91%\n",
            " Best model saved.\n"
          ]
        },
        {
          "name": "stderr",
          "output_type": "stream",
          "text": []
        },
        {
          "name": "stdout",
          "output_type": "stream",
          "text": [
            "Epoch 25, Train Loss: 78.4252, Val Acc: 54.13%\n"
          ]
        },
        {
          "name": "stderr",
          "output_type": "stream",
          "text": []
        },
        {
          "name": "stdout",
          "output_type": "stream",
          "text": [
            "Epoch 26, Train Loss: 78.3133, Val Acc: 58.07%\n",
            " Best model saved.\n"
          ]
        },
        {
          "name": "stderr",
          "output_type": "stream",
          "text": []
        },
        {
          "name": "stdout",
          "output_type": "stream",
          "text": [
            "Epoch 27, Train Loss: 78.2381, Val Acc: 56.50%\n"
          ]
        },
        {
          "name": "stderr",
          "output_type": "stream",
          "text": []
        },
        {
          "name": "stdout",
          "output_type": "stream",
          "text": [
            "Epoch 28, Train Loss: 79.0184, Val Acc: 56.89%\n"
          ]
        },
        {
          "name": "stderr",
          "output_type": "stream",
          "text": []
        },
        {
          "name": "stdout",
          "output_type": "stream",
          "text": [
            "Epoch 29, Train Loss: 77.6958, Val Acc: 56.10%\n"
          ]
        },
        {
          "name": "stderr",
          "output_type": "stream",
          "text": []
        },
        {
          "name": "stdout",
          "output_type": "stream",
          "text": [
            "Epoch 30, Train Loss: 76.7468, Val Acc: 57.48%\n"
          ]
        },
        {
          "name": "stderr",
          "output_type": "stream",
          "text": []
        },
        {
          "name": "stdout",
          "output_type": "stream",
          "text": [
            "Epoch 31, Train Loss: 78.3494, Val Acc: 58.46%\n",
            " Best model saved.\n"
          ]
        },
        {
          "name": "stderr",
          "output_type": "stream",
          "text": []
        },
        {
          "name": "stdout",
          "output_type": "stream",
          "text": [
            "Epoch 32, Train Loss: 77.3715, Val Acc: 57.87%\n"
          ]
        },
        {
          "name": "stderr",
          "output_type": "stream",
          "text": []
        },
        {
          "name": "stdout",
          "output_type": "stream",
          "text": [
            "Epoch 33, Train Loss: 77.8486, Val Acc: 56.50%\n"
          ]
        },
        {
          "name": "stderr",
          "output_type": "stream",
          "text": []
        },
        {
          "name": "stdout",
          "output_type": "stream",
          "text": [
            "Epoch 34, Train Loss: 76.6919, Val Acc: 57.28%\n"
          ]
        },
        {
          "name": "stderr",
          "output_type": "stream",
          "text": []
        },
        {
          "name": "stdout",
          "output_type": "stream",
          "text": [
            "Epoch 35, Train Loss: 77.2062, Val Acc: 58.46%\n"
          ]
        },
        {
          "name": "stderr",
          "output_type": "stream",
          "text": []
        },
        {
          "name": "stdout",
          "output_type": "stream",
          "text": [
            "Epoch 36, Train Loss: 75.9531, Val Acc: 57.87%\n"
          ]
        },
        {
          "name": "stderr",
          "output_type": "stream",
          "text": []
        },
        {
          "name": "stdout",
          "output_type": "stream",
          "text": [
            "Epoch 37, Train Loss: 77.3540, Val Acc: 57.87%\n"
          ]
        },
        {
          "name": "stderr",
          "output_type": "stream",
          "text": []
        },
        {
          "name": "stdout",
          "output_type": "stream",
          "text": [
            "Epoch 38, Train Loss: 76.2342, Val Acc: 57.28%\n"
          ]
        },
        {
          "name": "stderr",
          "output_type": "stream",
          "text": []
        },
        {
          "name": "stdout",
          "output_type": "stream",
          "text": [
            "Epoch 39, Train Loss: 75.2163, Val Acc: 57.28%\n"
          ]
        },
        {
          "name": "stderr",
          "output_type": "stream",
          "text": []
        },
        {
          "name": "stdout",
          "output_type": "stream",
          "text": [
            "Epoch 40, Train Loss: 75.9691, Val Acc: 58.46%\n"
          ]
        },
        {
          "name": "stderr",
          "output_type": "stream",
          "text": []
        },
        {
          "name": "stdout",
          "output_type": "stream",
          "text": [
            "Epoch 41, Train Loss: 76.1887, Val Acc: 58.07%\n"
          ]
        },
        {
          "name": "stderr",
          "output_type": "stream",
          "text": []
        },
        {
          "name": "stdout",
          "output_type": "stream",
          "text": [
            "Epoch 42, Train Loss: 75.9005, Val Acc: 57.87%\n"
          ]
        },
        {
          "name": "stderr",
          "output_type": "stream",
          "text": []
        },
        {
          "name": "stdout",
          "output_type": "stream",
          "text": [
            "Epoch 43, Train Loss: 75.8296, Val Acc: 58.27%\n"
          ]
        },
        {
          "name": "stderr",
          "output_type": "stream",
          "text": []
        },
        {
          "name": "stdout",
          "output_type": "stream",
          "text": [
            "Epoch 44, Train Loss: 76.5450, Val Acc: 58.07%\n"
          ]
        },
        {
          "name": "stderr",
          "output_type": "stream",
          "text": []
        },
        {
          "name": "stdout",
          "output_type": "stream",
          "text": [
            "Epoch 45, Train Loss: 76.3633, Val Acc: 57.87%\n"
          ]
        },
        {
          "name": "stderr",
          "output_type": "stream",
          "text": []
        },
        {
          "name": "stdout",
          "output_type": "stream",
          "text": [
            "Epoch 46, Train Loss: 75.5332, Val Acc: 58.27%\n"
          ]
        },
        {
          "name": "stderr",
          "output_type": "stream",
          "text": []
        },
        {
          "name": "stdout",
          "output_type": "stream",
          "text": [
            "Epoch 47, Train Loss: 74.9102, Val Acc: 58.07%\n"
          ]
        },
        {
          "name": "stderr",
          "output_type": "stream",
          "text": []
        },
        {
          "name": "stdout",
          "output_type": "stream",
          "text": [
            "Epoch 48, Train Loss: 75.8681, Val Acc: 58.07%\n"
          ]
        },
        {
          "name": "stderr",
          "output_type": "stream",
          "text": []
        },
        {
          "name": "stdout",
          "output_type": "stream",
          "text": [
            "Epoch 49, Train Loss: 76.1181, Val Acc: 58.27%\n"
          ]
        },
        {
          "name": "stderr",
          "output_type": "stream",
          "text": []
        },
        {
          "name": "stdout",
          "output_type": "stream",
          "text": [
            "Epoch 50, Train Loss: 75.2787, Val Acc: 58.46%\n"
          ]
        }
      ],
      "source": [
        "# Train for 50 epochs and save the best model （72 minutes used for training)\n",
        "best_val_acc = 0.0\n",
        "for epoch in range(50):\n",
        "    model.train()\n",
        "    total_loss = 0.0\n",
        "    for X, y in tqdm(train_loader, desc=f\"Epoch {epoch+1}\", leave=False):\n",
        "        X, y = X.to(device), y.to(device)\n",
        "        optimizer.zero_grad()\n",
        "        preds = model(X)\n",
        "        loss = criterion(preds, y)\n",
        "        loss.backward()\n",
        "        optimizer.step()\n",
        "        total_loss += loss.item()\n",
        "\n",
        "    val_acc = evaluate(model, val_loader)\n",
        "    scheduler.step(val_acc)\n",
        "    print(f\"Epoch {epoch+1}, Train Loss: {total_loss:.4f}, Val Acc: {val_acc * 100:.2f}%\")\n",
        "\n",
        "    if val_acc > best_val_acc:\n",
        "        best_val_acc = val_acc\n",
        "        torch.save(model.state_dict(), \"best_improved_model.pt\")\n",
        "        print(\" Best model saved.\")\n"
      ]
    },
    {
      "cell_type": "code",
      "execution_count": null,
      "id": "HxB48Qezsegj",
      "metadata": {
        "colab": {
          "base_uri": "https://localhost:8080/",
          "height": 607
        },
        "id": "HxB48Qezsegj",
        "outputId": "eeeeed6a-60ca-4bee-d77d-35de7626af49"
      },
      "outputs": [
        {
          "data": {
            "image/png": "[encoded data removed]",
            "text/plain": [
              "<Figure size 1200x600 with 1 Axes>"
            ]
          },
          "metadata": {},
          "output_type": "display_data"
        }
      ],
      "source": [
        "# Re-run after kernel reset\n",
        "import matplotlib.pyplot as plt\n",
        "\n",
        "# Re-initialize data\n",
        "epochs = list(range(1, 51))\n",
        "train_loss = [\n",
        "    113.5060, 110.1049, 106.2252, 101.9284, 98.2796, 95.5715, 93.9894, 91.9179, 90.6625, 89.5781,\n",
        "    88.4909, 86.4758, 84.3414, 83.5631, 84.8094, 84.9291, 84.7134, 82.6587, 81.2441, 80.3848,\n",
        "    79.8744, 80.1502, 79.1833, 79.4367, 78.4252, 78.3133, 78.2381, 79.0184, 77.6958, 76.7468,\n",
        "    78.3494, 77.3715, 77.8486, 76.6919, 77.2062, 75.9531, 77.3540, 76.2342, 75.2163, 75.9691,\n",
        "    76.1887, 75.9005, 75.8296, 76.5450, 76.3633, 75.5332, 74.9102, 75.8681, 76.1181, 75.2787\n",
        "]\n",
        "val_acc = [\n",
        "    35.43, 23.43, 35.04, 39.76, 34.45, 37.99, 41.93, 49.41, 48.62, 44.49,\n",
        "    45.67, 33.86, 52.95, 47.64, 55.51, 43.31, 44.29, 43.90, 54.33, 50.39,\n",
        "    52.36, 50.20, 55.31, 55.91, 54.13, 58.07, 56.50, 56.89, 56.10, 57.48,\n",
        "    58.46, 57.87, 56.50, 57.28, 58.46, 57.87, 57.87, 57.28, 57.28, 58.46,\n",
        "    58.07, 57.87, 58.27, 58.07, 57.87, 58.27, 58.07, 58.07, 58.27, 58.46\n",
        "]\n",
        "\n",
        "# Plot\n",
        "plt.figure(figsize=(12, 6))\n",
        "plt.plot(epochs, train_loss, label=\"Train Loss\", color='tab:blue', marker='o')\n",
        "plt.plot(epochs, val_acc, label=\"Validation Accuracy (%)\", color='tab:orange', marker='s')\n",
        "plt.title(\"Training Loss and Validation Accuracy Over Epochs\")\n",
        "plt.xlabel(\"Epoch\")\n",
        "plt.ylabel(\"Value\")\n",
        "plt.grid(True)\n",
        "plt.legend()\n",
        "plt.xticks(range(0, 51, 5))\n",
        "plt.tight_layout()\n",
        "plt.show()\n"
      ]
    },
    {
      "cell_type": "code",
      "execution_count": null,
      "id": "jYGiGwaJb1B6",
      "metadata": {
        "colab": {
          "base_uri": "https://localhost:8080/",
          "height": 67,
          "referenced_widgets": [
            "55482fdb3315454d8327a88230b9c329",
            "da731d0603b145b89e3a5ad03114f84f",
            "e10edf6093de4cf583ae12860a74442e",
            "4bf067beb4204ddfaeb7dcbe72bd2120",
            "f3118244cd0b423e91d217228af3b8d5",
            "28936b6dfd9b4f948a9fb9883acdc108",
            "ed203509869a4b3280ef72b98eebf71c",
            "ca81d1edd16546b88f135c079c5dbf64",
            "cd022168a0424b83a06598678433e1ba",
            "992ade132b9441058c07ff0231ccdc41",
            "b20a634615c9487a910557e808cd9c9c"
          ]
        },
        "id": "jYGiGwaJb1B6",
        "outputId": "d70845a5-197f-4e7b-992a-a99d39604c12"
      },
      "outputs": [
        {
          "data": {
            "application/vnd.jupyter.widget-view+json": {
              "model_id": "55482fdb3315454d8327a88230b9c329",
              "version_major": 2,
              "version_minor": 0
            },
            "text/plain": [
              "Map:   0%|          | 0/309 [00:00<?, ? examples/s]"
            ]
          },
          "metadata": {},
          "output_type": "display_data"
        },
        {
          "name": "stdout",
          "output_type": "stream",
          "text": [
            "Final Test Accuracy: 55.99%\n"
          ]
        }
      ],
      "source": [
        "# Load test set and process labels\n",
        "test_ds = load_dataset(\"ZZZtong/common-accent-MelSpec-MFCC\", split=\"test\")\n",
        "test_ds = test_ds.map(lambda ex: {\"label\": le.transform([ex[\"accent\"]])[0]})\n",
        "test_loader = DataLoader(test_ds, batch_size=32, shuffle=False, collate_fn=collate_fn)\n",
        "\n",
        "# Load and evaluate the saved best model\n",
        "model = CNN_Adaptive(num_classes).to(device)\n",
        "model.load_state_dict(torch.load(\"best_improved_model.pt\"))\n",
        "model.eval()\n",
        "\n",
        "test_acc = evaluate(model, test_loader)\n",
        "print(f\"Final Test Accuracy: {test_acc * 100:.2f}%\")"
      ]
    },
    {
      "cell_type": "code",
      "execution_count": null,
      "id": "9GuqdIRpb38d",
      "metadata": {
        "colab": {
          "base_uri": "https://localhost:8080/",
          "height": 608
        },
        "id": "9GuqdIRpb38d",
        "outputId": "56100743-1b3f-47f3-c37f-811caa67dd69"
      },
      "outputs": [
        {
          "data": {
            "image/png": "[encoded data removed]",
            "text/plain": [
              "<Figure size 800x600 with 2 Axes>"
            ]
          },
          "metadata": {},
          "output_type": "display_data"
        }
      ],
      "source": [
        "# Plot confusion matrix\n",
        "from sklearn.metrics import confusion_matrix, classification_report\n",
        "import seaborn as sns\n",
        "import matplotlib.pyplot as plt\n",
        "\n",
        "y_true = []\n",
        "y_pred = []\n",
        "\n",
        "with torch.no_grad():\n",
        "    for X, y in test_loader:\n",
        "        X, y = X.to(device), y.to(device)\n",
        "        preds = model(X)\n",
        "        predicted = preds.argmax(dim=1)\n",
        "        y_true.extend(y.cpu().numpy())\n",
        "        y_pred.extend(predicted.cpu().numpy())\n",
        "\n",
        "cm = confusion_matrix(y_true, y_pred)\n",
        "labels = le.classes_\n",
        "\n",
        "\n",
        "plt.figure(figsize=(8, 6))  # Shrink the overall figure\n",
        "sns.set(font_scale=0.8)     # Shrink font size for labels and numbers\n",
        "\n",
        "ax = sns.heatmap(cm, annot=True, fmt='d', cmap='Blues',\n",
        "                 xticklabels=labels, yticklabels=labels, cbar_kws={'label': 'Count'})\n",
        "\n",
        "plt.xlabel(\"Predicted Label\", fontsize=10)\n",
        "plt.ylabel(\"True Label\", fontsize=10)\n",
        "plt.title(\"Confusion Matrix\", fontsize=12)\n",
        "ax.set_xticklabels(labels, rotation=45, ha='right', fontsize=8)\n",
        "ax.set_yticklabels(labels, rotation=0, fontsize=8)\n",
        "plt.tight_layout()\n",
        "plt.show()"
      ]
    },
    {
      "cell_type": "code",
      "execution_count": null,
      "id": "utoo9AWttuiT",
      "metadata": {
        "colab": {
          "base_uri": "https://localhost:8080/"
        },
        "id": "utoo9AWttuiT",
        "outputId": "9c5af0ed-12b1-4d5b-ab7f-e318656b324f"
      },
      "outputs": [
        {
          "name": "stdout",
          "output_type": "stream",
          "text": [
            "Classification Report:\n",
            "                                                     precision    recall  f1-score   support\n",
            "\n",
            "                                          Filipino     0.2609    0.4186    0.3214        43\n",
            "                 German English,Non native speaker     0.9200    0.9388    0.9293        49\n",
            "                                 Hong Kong English     0.5610    0.4894    0.5227        47\n",
            " India and South Asia (India, Pakistan, Sri Lanka)     0.6197    0.5176    0.5641        85\n",
            "                               Singaporean English     0.4500    0.4737    0.4615        38\n",
            "Southern African (South Africa, Zimbabwe, Namibia)     0.6316    0.5106    0.5647        47\n",
            "\n",
            "                                          accuracy                         0.5599       309\n",
            "                                         macro avg     0.5739    0.5581    0.5606       309\n",
            "                                      weighted avg     0.5894    0.5599    0.5694       309\n",
            "\n"
          ]
        }
      ],
      "source": [
        "# Print classification report\n",
        "report = classification_report(y_true, y_pred, target_names=labels, digits=4)\n",
        "print(\"Classification Report:\\n\", report)"
      ]
    },
    {
      "cell_type": "code",
      "execution_count": null,
      "id": "79K4c3cPtxOL",
      "metadata": {
        "id": "79K4c3cPtxOL"
      },
      "outputs": [],
      "source": []
    }
  ],
  "metadata": {
    "accelerator": "GPU",
    "colab": {
      "gpuType": "T4",
      "provenance": []
    },
    "kernelspec": {
      "display_name": "Python 3 (ipykernel)",
      "language": "python",
      "name": "python3"
    },
    "language_info": {
      "codemirror_mode": {
        "name": "ipython",
        "version": 3
      },
      "file_extension": ".py",
      "mimetype": "text/x-python",
      "name": "python",
      "nbconvert_exporter": "python",
      "pygments_lexer": "ipython3",
      "version": "3.9.7"
    },
    "widgets": {
      "application/vnd.jupyter.widget-state+json": {
        "0fccd214dc8d4962a9c9116ec358f348": {
          "model_module": "@jupyter-widgets/base",
          "model_module_version": "1.2.0",
          "model_name": "LayoutModel",
          "state": {
            "_model_module": "@jupyter-widgets/base",
            "_model_module_version": "1.2.0",
            "_model_name": "LayoutModel",
            "_view_count": null,
            "_view_module": "@jupyter-widgets/base",
            "_view_module_version": "1.2.0",
            "_view_name": "LayoutView",
            "align_content": null,
            "align_items": null,
            "align_self": null,
            "border": null,
            "bottom": null,
            "display": null,
            "flex": null,
            "flex_flow": null,
            "grid_area": null,
            "grid_auto_columns": null,
            "grid_auto_flow": null,
            "grid_auto_rows": null,
            "grid_column": null,
            "grid_gap": null,
            "grid_row": null,
            "grid_template_areas": null,
            "grid_template_columns": null,
            "grid_template_rows": null,
            "height": null,
            "justify_content": null,
            "justify_items": null,
            "left": null,
            "margin": null,
            "max_height": null,
            "max_width": null,
            "min_height": null,
            "min_width": null,
            "object_fit": null,
            "object_position": null,
            "order": null,
            "overflow": null,
            "overflow_x": null,
            "overflow_y": null,
            "padding": null,
            "right": null,
            "top": null,
            "visibility": null,
            "width": null
          }
        },
        "28936b6dfd9b4f948a9fb9883acdc108": {
          "model_module": "@jupyter-widgets/base",
          "model_module_version": "1.2.0",
          "model_name": "LayoutModel",
          "state": {
            "_model_module": "@jupyter-widgets/base",
            "_model_module_version": "1.2.0",
            "_model_name": "LayoutModel",
            "_view_count": null,
            "_view_module": "@jupyter-widgets/base",
            "_view_module_version": "1.2.0",
            "_view_name": "LayoutView",
            "align_content": null,
            "align_items": null,
            "align_self": null,
            "border": null,
            "bottom": null,
            "display": null,
            "flex": null,
            "flex_flow": null,
            "grid_area": null,
            "grid_auto_columns": null,
            "grid_auto_flow": null,
            "grid_auto_rows": null,
            "grid_column": null,
            "grid_gap": null,
            "grid_row": null,
            "grid_template_areas": null,
            "grid_template_columns": null,
            "grid_template_rows": null,
            "height": null,
            "justify_content": null,
            "justify_items": null,
            "left": null,
            "margin": null,
            "max_height": null,
            "max_width": null,
            "min_height": null,
            "min_width": null,
            "object_fit": null,
            "object_position": null,
            "order": null,
            "overflow": null,
            "overflow_x": null,
            "overflow_y": null,
            "padding": null,
            "right": null,
            "top": null,
            "visibility": null,
            "width": null
          }
        },
        "2978646e7d074f1fa2e83a3d2d795711": {
          "model_module": "@jupyter-widgets/controls",
          "model_module_version": "1.5.0",
          "model_name": "HTMLModel",
          "state": {
            "_dom_classes": [],
            "_model_module": "@jupyter-widgets/controls",
            "_model_module_version": "1.5.0",
            "_model_name": "HTMLModel",
            "_view_count": null,
            "_view_module": "@jupyter-widgets/controls",
            "_view_module_version": "1.5.0",
            "_view_name": "HTMLView",
            "description": "",
            "description_tooltip": null,
            "layout": "IPY_MODEL_e46272082ae54bff8f8d7fa221f1d70b",
            "placeholder": "​",
            "style": "IPY_MODEL_a807cb90d5264a639dda86d845c56c74",
            "value": "Casting the dataset: 100%"
          }
        },
        "38c4e81e09074cd19e62559741aea268": {
          "model_module": "@jupyter-widgets/controls",
          "model_module_version": "1.5.0",
          "model_name": "HBoxModel",
          "state": {
            "_dom_classes": [],
            "_model_module": "@jupyter-widgets/controls",
            "_model_module_version": "1.5.0",
            "_model_name": "HBoxModel",
            "_view_count": null,
            "_view_module": "@jupyter-widgets/controls",
            "_view_module_version": "1.5.0",
            "_view_name": "HBoxView",
            "box_style": "",
            "children": [
              "IPY_MODEL_2978646e7d074f1fa2e83a3d2d795711",
              "IPY_MODEL_8f38ce77fcf54d19aa8cf1b2e46796af",
              "IPY_MODEL_b93dc6487bac48d382c84774b0695a9e"
            ],
            "layout": "IPY_MODEL_cea558311ae745d6b4be85aed1696570"
          }
        },
        "4bf067beb4204ddfaeb7dcbe72bd2120": {
          "model_module": "@jupyter-widgets/controls",
          "model_module_version": "1.5.0",
          "model_name": "HTMLModel",
          "state": {
            "_dom_classes": [],
            "_model_module": "@jupyter-widgets/controls",
            "_model_module_version": "1.5.0",
            "_model_name": "HTMLModel",
            "_view_count": null,
            "_view_module": "@jupyter-widgets/controls",
            "_view_module_version": "1.5.0",
            "_view_name": "HTMLView",
            "description": "",
            "description_tooltip": null,
            "layout": "IPY_MODEL_992ade132b9441058c07ff0231ccdc41",
            "placeholder": "​",
            "style": "IPY_MODEL_b20a634615c9487a910557e808cd9c9c",
            "value": " 309/309 [00:00&lt;00:00, 449.44 examples/s]"
          }
        },
        "55482fdb3315454d8327a88230b9c329": {
          "model_module": "@jupyter-widgets/controls",
          "model_module_version": "1.5.0",
          "model_name": "HBoxModel",
          "state": {
            "_dom_classes": [],
            "_model_module": "@jupyter-widgets/controls",
            "_model_module_version": "1.5.0",
            "_model_name": "HBoxModel",
            "_view_count": null,
            "_view_module": "@jupyter-widgets/controls",
            "_view_module_version": "1.5.0",
            "_view_name": "HBoxView",
            "box_style": "",
            "children": [
              "IPY_MODEL_da731d0603b145b89e3a5ad03114f84f",
              "IPY_MODEL_e10edf6093de4cf583ae12860a74442e",
              "IPY_MODEL_4bf067beb4204ddfaeb7dcbe72bd2120"
            ],
            "layout": "IPY_MODEL_f3118244cd0b423e91d217228af3b8d5"
          }
        },
        "6fee22402ddd4f268b0471df1d33c53d": {
          "model_module": "@jupyter-widgets/base",
          "model_module_version": "1.2.0",
          "model_name": "LayoutModel",
          "state": {
            "_model_module": "@jupyter-widgets/base",
            "_model_module_version": "1.2.0",
            "_model_name": "LayoutModel",
            "_view_count": null,
            "_view_module": "@jupyter-widgets/base",
            "_view_module_version": "1.2.0",
            "_view_name": "LayoutView",
            "align_content": null,
            "align_items": null,
            "align_self": null,
            "border": null,
            "bottom": null,
            "display": null,
            "flex": null,
            "flex_flow": null,
            "grid_area": null,
            "grid_auto_columns": null,
            "grid_auto_flow": null,
            "grid_auto_rows": null,
            "grid_column": null,
            "grid_gap": null,
            "grid_row": null,
            "grid_template_areas": null,
            "grid_template_columns": null,
            "grid_template_rows": null,
            "height": null,
            "justify_content": null,
            "justify_items": null,
            "left": null,
            "margin": null,
            "max_height": null,
            "max_width": null,
            "min_height": null,
            "min_width": null,
            "object_fit": null,
            "object_position": null,
            "order": null,
            "overflow": null,
            "overflow_x": null,
            "overflow_y": null,
            "padding": null,
            "right": null,
            "top": null,
            "visibility": null,
            "width": null
          }
        },
        "7a38585c31844a3b9e1b1e70110c1c24": {
          "model_module": "@jupyter-widgets/controls",
          "model_module_version": "1.5.0",
          "model_name": "DescriptionStyleModel",
          "state": {
            "_model_module": "@jupyter-widgets/controls",
            "_model_module_version": "1.5.0",
            "_model_name": "DescriptionStyleModel",
            "_view_count": null,
            "_view_module": "@jupyter-widgets/base",
            "_view_module_version": "1.2.0",
            "_view_name": "StyleView",
            "description_width": ""
          }
        },
        "8f38ce77fcf54d19aa8cf1b2e46796af": {
          "model_module": "@jupyter-widgets/controls",
          "model_module_version": "1.5.0",
          "model_name": "FloatProgressModel",
          "state": {
            "_dom_classes": [],
            "_model_module": "@jupyter-widgets/controls",
            "_model_module_version": "1.5.0",
            "_model_name": "FloatProgressModel",
            "_view_count": null,
            "_view_module": "@jupyter-widgets/controls",
            "_view_module_version": "1.5.0",
            "_view_name": "ProgressView",
            "bar_style": "success",
            "description": "",
            "description_tooltip": null,
            "layout": "IPY_MODEL_0fccd214dc8d4962a9c9116ec358f348",
            "max": 2538,
            "min": 0,
            "orientation": "horizontal",
            "style": "IPY_MODEL_96595f70507048af8e1d1c8f488dcee4",
            "value": 2538
          }
        },
        "96595f70507048af8e1d1c8f488dcee4": {
          "model_module": "@jupyter-widgets/controls",
          "model_module_version": "1.5.0",
          "model_name": "ProgressStyleModel",
          "state": {
            "_model_module": "@jupyter-widgets/controls",
            "_model_module_version": "1.5.0",
            "_model_name": "ProgressStyleModel",
            "_view_count": null,
            "_view_module": "@jupyter-widgets/base",
            "_view_module_version": "1.2.0",
            "_view_name": "StyleView",
            "bar_color": null,
            "description_width": ""
          }
        },
        "992ade132b9441058c07ff0231ccdc41": {
          "model_module": "@jupyter-widgets/base",
          "model_module_version": "1.2.0",
          "model_name": "LayoutModel",
          "state": {
            "_model_module": "@jupyter-widgets/base",
            "_model_module_version": "1.2.0",
            "_model_name": "LayoutModel",
            "_view_count": null,
            "_view_module": "@jupyter-widgets/base",
            "_view_module_version": "1.2.0",
            "_view_name": "LayoutView",
            "align_content": null,
            "align_items": null,
            "align_self": null,
            "border": null,
            "bottom": null,
            "display": null,
            "flex": null,
            "flex_flow": null,
            "grid_area": null,
            "grid_auto_columns": null,
            "grid_auto_flow": null,
            "grid_auto_rows": null,
            "grid_column": null,
            "grid_gap": null,
            "grid_row": null,
            "grid_template_areas": null,
            "grid_template_columns": null,
            "grid_template_rows": null,
            "height": null,
            "justify_content": null,
            "justify_items": null,
            "left": null,
            "margin": null,
            "max_height": null,
            "max_width": null,
            "min_height": null,
            "min_width": null,
            "object_fit": null,
            "object_position": null,
            "order": null,
            "overflow": null,
            "overflow_x": null,
            "overflow_y": null,
            "padding": null,
            "right": null,
            "top": null,
            "visibility": null,
            "width": null
          }
        },
        "a807cb90d5264a639dda86d845c56c74": {
          "model_module": "@jupyter-widgets/controls",
          "model_module_version": "1.5.0",
          "model_name": "DescriptionStyleModel",
          "state": {
            "_model_module": "@jupyter-widgets/controls",
            "_model_module_version": "1.5.0",
            "_model_name": "DescriptionStyleModel",
            "_view_count": null,
            "_view_module": "@jupyter-widgets/base",
            "_view_module_version": "1.2.0",
            "_view_name": "StyleView",
            "description_width": ""
          }
        },
        "b20a634615c9487a910557e808cd9c9c": {
          "model_module": "@jupyter-widgets/controls",
          "model_module_version": "1.5.0",
          "model_name": "DescriptionStyleModel",
          "state": {
            "_model_module": "@jupyter-widgets/controls",
            "_model_module_version": "1.5.0",
            "_model_name": "DescriptionStyleModel",
            "_view_count": null,
            "_view_module": "@jupyter-widgets/base",
            "_view_module_version": "1.2.0",
            "_view_name": "StyleView",
            "description_width": ""
          }
        },
        "b93dc6487bac48d382c84774b0695a9e": {
          "model_module": "@jupyter-widgets/controls",
          "model_module_version": "1.5.0",
          "model_name": "HTMLModel",
          "state": {
            "_dom_classes": [],
            "_model_module": "@jupyter-widgets/controls",
            "_model_module_version": "1.5.0",
            "_model_name": "HTMLModel",
            "_view_count": null,
            "_view_module": "@jupyter-widgets/controls",
            "_view_module_version": "1.5.0",
            "_view_name": "HTMLView",
            "description": "",
            "description_tooltip": null,
            "layout": "IPY_MODEL_6fee22402ddd4f268b0471df1d33c53d",
            "placeholder": "​",
            "style": "IPY_MODEL_7a38585c31844a3b9e1b1e70110c1c24",
            "value": " 2538/2538 [00:09&lt;00:00, 278.09 examples/s]"
          }
        },
        "ca81d1edd16546b88f135c079c5dbf64": {
          "model_module": "@jupyter-widgets/base",
          "model_module_version": "1.2.0",
          "model_name": "LayoutModel",
          "state": {
            "_model_module": "@jupyter-widgets/base",
            "_model_module_version": "1.2.0",
            "_model_name": "LayoutModel",
            "_view_count": null,
            "_view_module": "@jupyter-widgets/base",
            "_view_module_version": "1.2.0",
            "_view_name": "LayoutView",
            "align_content": null,
            "align_items": null,
            "align_self": null,
            "border": null,
            "bottom": null,
            "display": null,
            "flex": null,
            "flex_flow": null,
            "grid_area": null,
            "grid_auto_columns": null,
            "grid_auto_flow": null,
            "grid_auto_rows": null,
            "grid_column": null,
            "grid_gap": null,
            "grid_row": null,
            "grid_template_areas": null,
            "grid_template_columns": null,
            "grid_template_rows": null,
            "height": null,
            "justify_content": null,
            "justify_items": null,
            "left": null,
            "margin": null,
            "max_height": null,
            "max_width": null,
            "min_height": null,
            "min_width": null,
            "object_fit": null,
            "object_position": null,
            "order": null,
            "overflow": null,
            "overflow_x": null,
            "overflow_y": null,
            "padding": null,
            "right": null,
            "top": null,
            "visibility": null,
            "width": null
          }
        },
        "cd022168a0424b83a06598678433e1ba": {
          "model_module": "@jupyter-widgets/controls",
          "model_module_version": "1.5.0",
          "model_name": "ProgressStyleModel",
          "state": {
            "_model_module": "@jupyter-widgets/controls",
            "_model_module_version": "1.5.0",
            "_model_name": "ProgressStyleModel",
            "_view_count": null,
            "_view_module": "@jupyter-widgets/base",
            "_view_module_version": "1.2.0",
            "_view_name": "StyleView",
            "bar_color": null,
            "description_width": ""
          }
        },
        "cea558311ae745d6b4be85aed1696570": {
          "model_module": "@jupyter-widgets/base",
          "model_module_version": "1.2.0",
          "model_name": "LayoutModel",
          "state": {
            "_model_module": "@jupyter-widgets/base",
            "_model_module_version": "1.2.0",
            "_model_name": "LayoutModel",
            "_view_count": null,
            "_view_module": "@jupyter-widgets/base",
            "_view_module_version": "1.2.0",
            "_view_name": "LayoutView",
            "align_content": null,
            "align_items": null,
            "align_self": null,
            "border": null,
            "bottom": null,
            "display": null,
            "flex": null,
            "flex_flow": null,
            "grid_area": null,
            "grid_auto_columns": null,
            "grid_auto_flow": null,
            "grid_auto_rows": null,
            "grid_column": null,
            "grid_gap": null,
            "grid_row": null,
            "grid_template_areas": null,
            "grid_template_columns": null,
            "grid_template_rows": null,
            "height": null,
            "justify_content": null,
            "justify_items": null,
            "left": null,
            "margin": null,
            "max_height": null,
            "max_width": null,
            "min_height": null,
            "min_width": null,
            "object_fit": null,
            "object_position": null,
            "order": null,
            "overflow": null,
            "overflow_x": null,
            "overflow_y": null,
            "padding": null,
            "right": null,
            "top": null,
            "visibility": null,
            "width": null
          }
        },
        "da731d0603b145b89e3a5ad03114f84f": {
          "model_module": "@jupyter-widgets/controls",
          "model_module_version": "1.5.0",
          "model_name": "HTMLModel",
          "state": {
            "_dom_classes": [],
            "_model_module": "@jupyter-widgets/controls",
            "_model_module_version": "1.5.0",
            "_model_name": "HTMLModel",
            "_view_count": null,
            "_view_module": "@jupyter-widgets/controls",
            "_view_module_version": "1.5.0",
            "_view_name": "HTMLView",
            "description": "",
            "description_tooltip": null,
            "layout": "IPY_MODEL_28936b6dfd9b4f948a9fb9883acdc108",
            "placeholder": "​",
            "style": "IPY_MODEL_ed203509869a4b3280ef72b98eebf71c",
            "value": "Map: 100%"
          }
        },
        "e10edf6093de4cf583ae12860a74442e": {
          "model_module": "@jupyter-widgets/controls",
          "model_module_version": "1.5.0",
          "model_name": "FloatProgressModel",
          "state": {
            "_dom_classes": [],
            "_model_module": "@jupyter-widgets/controls",
            "_model_module_version": "1.5.0",
            "_model_name": "FloatProgressModel",
            "_view_count": null,
            "_view_module": "@jupyter-widgets/controls",
            "_view_module_version": "1.5.0",
            "_view_name": "ProgressView",
            "bar_style": "success",
            "description": "",
            "description_tooltip": null,
            "layout": "IPY_MODEL_ca81d1edd16546b88f135c079c5dbf64",
            "max": 309,
            "min": 0,
            "orientation": "horizontal",
            "style": "IPY_MODEL_cd022168a0424b83a06598678433e1ba",
            "value": 309
          }
        },
        "e46272082ae54bff8f8d7fa221f1d70b": {
          "model_module": "@jupyter-widgets/base",
          "model_module_version": "1.2.0",
          "model_name": "LayoutModel",
          "state": {
            "_model_module": "@jupyter-widgets/base",
            "_model_module_version": "1.2.0",
            "_model_name": "LayoutModel",
            "_view_count": null,
            "_view_module": "@jupyter-widgets/base",
            "_view_module_version": "1.2.0",
            "_view_name": "LayoutView",
            "align_content": null,
            "align_items": null,
            "align_self": null,
            "border": null,
            "bottom": null,
            "display": null,
            "flex": null,
            "flex_flow": null,
            "grid_area": null,
            "grid_auto_columns": null,
            "grid_auto_flow": null,
            "grid_auto_rows": null,
            "grid_column": null,
            "grid_gap": null,
            "grid_row": null,
            "grid_template_areas": null,
            "grid_template_columns": null,
            "grid_template_rows": null,
            "height": null,
            "justify_content": null,
            "justify_items": null,
            "left": null,
            "margin": null,
            "max_height": null,
            "max_width": null,
            "min_height": null,
            "min_width": null,
            "object_fit": null,
            "object_position": null,
            "order": null,
            "overflow": null,
            "overflow_x": null,
            "overflow_y": null,
            "padding": null,
            "right": null,
            "top": null,
            "visibility": null,
            "width": null
          }
        },
        "ed203509869a4b3280ef72b98eebf71c": {
          "model_module": "@jupyter-widgets/controls",
          "model_module_version": "1.5.0",
          "model_name": "DescriptionStyleModel",
          "state": {
            "_model_module": "@jupyter-widgets/controls",
            "_model_module_version": "1.5.0",
            "_model_name": "DescriptionStyleModel",
            "_view_count": null,
            "_view_module": "@jupyter-widgets/base",
            "_view_module_version": "1.2.0",
            "_view_name": "StyleView",
            "description_width": ""
          }
        },
        "f3118244cd0b423e91d217228af3b8d5": {
          "model_module": "@jupyter-widgets/base",
          "model_module_version": "1.2.0",
          "model_name": "LayoutModel",
          "state": {
            "_model_module": "@jupyter-widgets/base",
            "_model_module_version": "1.2.0",
            "_model_name": "LayoutModel",
            "_view_count": null,
            "_view_module": "@jupyter-widgets/base",
            "_view_module_version": "1.2.0",
            "_view_name": "LayoutView",
            "align_content": null,
            "align_items": null,
            "align_self": null,
            "border": null,
            "bottom": null,
            "display": null,
            "flex": null,
            "flex_flow": null,
            "grid_area": null,
            "grid_auto_columns": null,
            "grid_auto_flow": null,
            "grid_auto_rows": null,
            "grid_column": null,
            "grid_gap": null,
            "grid_row": null,
            "grid_template_areas": null,
            "grid_template_columns": null,
            "grid_template_rows": null,
            "height": null,
            "justify_content": null,
            "justify_items": null,
            "left": null,
            "margin": null,
            "max_height": null,
            "max_width": null,
            "min_height": null,
            "min_width": null,
            "object_fit": null,
            "object_position": null,
            "order": null,
            "overflow": null,
            "overflow_x": null,
            "overflow_y": null,
            "padding": null,
            "right": null,
            "top": null,
            "visibility": null,
            "width": null
          }
        }
      }
    }
  },
  "nbformat": 4,
  "nbformat_minor": 5
}